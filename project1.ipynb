{
  "nbformat": 4,
  "nbformat_minor": 0,
  "metadata": {
    "colab": {
      "name": "Untitled1.ipynb",
      "provenance": [],
      "collapsed_sections": [],
      "authorship_tag": "ABX9TyMY+2qSg2OKmjS/z20qptzM",
      "include_colab_link": true
    },
    "kernelspec": {
      "name": "python3",
      "display_name": "Python 3"
    },
    "language_info": {
      "name": "python"
    }
  },
  "cells": [
    {
      "cell_type": "markdown",
      "metadata": {
        "id": "view-in-github",
        "colab_type": "text"
      },
      "source": [
        "<a href=\"https://colab.research.google.com/github/newcoder-del/Python/blob/Global_AI_projects/project1.ipynb\" target=\"_parent\"><img src=\"https://colab.research.google.com/assets/colab-badge.svg\" alt=\"Open In Colab\"/></a>"
      ]
    },
    {
      "cell_type": "code",
      "execution_count": null,
      "metadata": {
        "id": "YQLfy5tzJOUa"
      },
      "outputs": [],
      "source": [
        "students = []\n",
        "\n",
        "number=int(input(\"Number of students:\"))\n",
        "counter=number\n",
        "while counter>0:\n",
        "  students.append(int(input(\"No:\")))\n",
        "  students.append(input(\"Student:\"))\n",
        "  students.append(int(input(\"Point:\")))\n",
        "\n",
        "  counter-=1"
      ]
    },
    {
      "cell_type": "code",
      "source": [
        "def compute_grade(points):\n",
        "  if points>= 90:\n",
        "    return \"A Pass\"\n",
        "  elif points >= 75:\n",
        "    return \"B Pass\"\n",
        "  elif points >= 55:\n",
        "    return \"C Pass\"\n",
        "  elif points>=35:\n",
        "    return \"D Pass\"\n",
        "  else:\n",
        "    return \"F Fail\""
      ],
      "metadata": {
        "id": "L6N4yN8OJyCD"
      },
      "execution_count": null,
      "outputs": []
    },
    {
      "cell_type": "code",
      "source": [
        "status = []\n",
        "for i in range(2,len(students),3):\n",
        "  status.append(compute_grade(students[i]))\n",
        "print(status)"
      ],
      "metadata": {
        "id": "GefszdBHMm7R"
      },
      "execution_count": null,
      "outputs": []
    },
    {
      "cell_type": "code",
      "source": [
        "import pandas as pd\n",
        "\n",
        "grades_file = open(\"grades.txt\",\"w\")\n",
        "\n",
        "name = 1\n",
        "j = 0\n",
        "no=0\n",
        "for no in range(0,len(students),3):\n",
        "  grades_file.write(str(students[no]) +\"-\" + str(students[name]) +\"-\" + str(status[j]) +  \"\\n\")\n",
        "  j += 1\n",
        "  name += 3\n",
        "grades_file.close()"
      ],
      "metadata": {
        "id": "tWpdqnX8S73t"
      },
      "execution_count": null,
      "outputs": []
    },
    {
      "cell_type": "code",
      "source": [
        "data = pd.read_csv('grades.txt', sep= \"-\", header=None)\n",
        "\n",
        "data.columns = [\"Student No\" ,\"Student\" , \"Status\"]\n",
        "\n",
        "print(data)"
      ],
      "metadata": {
        "id": "-vjCA9Q6YRcj"
      },
      "execution_count": null,
      "outputs": []
    },
    {
      "cell_type": "code",
      "source": [
        "file_name = 'GradesData.xlsx'\n",
        "data.to_excel(file_name)\n",
        "print('Excel File is ready.')"
      ],
      "metadata": {
        "id": "UMXG_ufKYlyN"
      },
      "execution_count": null,
      "outputs": []
    }
  ]
}